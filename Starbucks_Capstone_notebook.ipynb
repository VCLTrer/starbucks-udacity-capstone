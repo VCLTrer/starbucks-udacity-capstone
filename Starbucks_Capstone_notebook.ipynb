{
 "cells": [
  {
   "cell_type": "markdown",
   "metadata": {},
   "source": [
    "# Starbucks Capstone Challenge\n",
    "\n",
    "### Introduction\n",
    "\n",
    "This data set contains simulated data that mimics customer behavior on the Starbucks rewards mobile app. Once every few days, Starbucks sends out an offer to users of the mobile app. An offer can be merely an advertisement for a drink or an actual offer such as a discount or BOGO (buy one get one free). Some users might not receive any offer during certain weeks. \n",
    "\n",
    "Not all users receive the same offer, and that is the challenge to solve with this data set.\n",
    "\n",
    "Your task is to combine transaction, demographic and offer data to determine which demographic groups respond best to which offer type. This data set is a simplified version of the real Starbucks app because the underlying simulator only has one product whereas Starbucks actually sells dozens of products.\n",
    "\n",
    "Every offer has a validity period before the offer expires. As an example, a BOGO offer might be valid for only 5 days. You'll see in the data set that informational offers have a validity period even though these ads are merely providing information about a product; for example, if an informational offer has 7 days of validity, you can assume the customer is feeling the influence of the offer for 7 days after receiving the advertisement.\n",
    "\n",
    "You'll be given transactional data showing user purchases made on the app including the timestamp of purchase and the amount of money spent on a purchase. This transactional data also has a record for each offer that a user receives as well as a record for when a user actually views the offer. There are also records for when a user completes an offer. \n",
    "\n",
    "Keep in mind as well that someone using the app might make a purchase through the app without having received an offer or seen an offer.\n",
    "\n",
    "### Example\n",
    "\n",
    "To give an example, a user could receive a discount offer buy 10 dollars get 2 off on Monday. The offer is valid for 10 days from receipt. If the customer accumulates at least 10 dollars in purchases during the validity period, the customer completes the offer.\n",
    "\n",
    "However, there are a few things to watch out for in this data set. Customers do not opt into the offers that they receive; in other words, a user can receive an offer, never actually view the offer, and still complete the offer. For example, a user might receive the \"buy 10 dollars get 2 dollars off offer\", but the user never opens the offer during the 10 day validity period. The customer spends 15 dollars during those ten days. There will be an offer completion record in the data set; however, the customer was not influenced by the offer because the customer never viewed the offer.\n",
    "\n",
    "### Cleaning\n",
    "\n",
    "This makes data cleaning especially important and tricky.\n",
    "\n",
    "You'll also want to take into account that some demographic groups will make purchases even if they don't receive an offer. From a business perspective, if a customer is going to make a 10 dollar purchase without an offer anyway, you wouldn't want to send a buy 10 dollars get 2 dollars off offer. You'll want to try to assess what a certain demographic group will buy when not receiving any offers.\n",
    "\n",
    "### Final Advice\n",
    "\n",
    "Because this is a capstone project, you are free to analyze the data any way you see fit. For example, you could build a machine learning model that predicts how much someone will spend based on demographics and offer type. Or you could build a model that predicts whether or not someone will respond to an offer. Or, you don't need to build a machine learning model at all. You could develop a set of heuristics that determine what offer you should send to each customer (i.e., 75 percent of women customers who were 35 years old responded to offer A vs 40 percent from the same demographic to offer B, so send offer A)."
   ]
  },
  {
   "cell_type": "markdown",
   "metadata": {},
   "source": [
    "# Data Sets\n",
    "\n",
    "The data is contained in three files:\n",
    "\n",
    "* portfolio.json - containing offer ids and meta data about each offer (duration, type, etc.)\n",
    "* profile.json - demographic data for each customer\n",
    "* transcript.json - records for transactions, offers received, offers viewed, and offers completed\n",
    "\n",
    "Here is the schema and explanation of each variable in the files:\n",
    "\n",
    "**portfolio.json**\n",
    "* id (string) - offer id\n",
    "* offer_type (string) - type of offer ie BOGO, discount, informational\n",
    "* difficulty (int) - minimum required spend to complete an offer\n",
    "* reward (int) - reward given for completing an offer\n",
    "* duration (int) - time for offer to be open, in days\n",
    "* channels (list of strings)\n",
    "\n",
    "**profile.json**\n",
    "* age (int) - age of the customer \n",
    "* became_member_on (int) - date when customer created an app account\n",
    "* gender (str) - gender of the customer (note some entries contain 'O' for other rather than M or F)\n",
    "* id (str) - customer id\n",
    "* income (float) - customer's income\n",
    "\n",
    "**transcript.json**\n",
    "* event (str) - record description (ie transaction, offer received, offer viewed, etc.)\n",
    "* person (str) - customer id\n",
    "* time (int) - time in hours since start of test. The data begins at time t=0\n",
    "* value - (dict of strings) - either an offer id or transaction amount depending on the record\n",
    "\n",
    "**Note:** If you are using the workspace, you will need to go to the terminal and run the command `conda update pandas` before reading in the files. This is because the version of pandas in the workspace cannot read in the transcript.json file correctly, but the newest version of pandas can. You can access the termnal from the orange icon in the top left of this notebook.  \n",
    "\n",
    "You can see how to access the terminal and how the install works using the two images below.  First you need to access the terminal:\n",
    "\n",
    "<img src=\"pic1.png\"/>\n",
    "\n",
    "Then you will want to run the above command:\n",
    "\n",
    "<img src=\"pic2.png\"/>\n",
    "\n",
    "Finally, when you enter back into the notebook (use the jupyter icon again), you should be able to run the below cell without any errors."
   ]
  },
  {
   "cell_type": "markdown",
   "metadata": {},
   "source": [
    "# Step 01: Load the data"
   ]
  },
  {
   "cell_type": "code",
   "execution_count": null,
   "metadata": {},
   "outputs": [],
   "source": [
    "import pandas as pd\n",
    "import numpy as np\n",
    "import math\n",
    "import json\n",
    "import matplotlib.pyplot as plt\n",
    "import seaborn as sns\n",
    "from sklearn.ensemble import RandomForestClassifier\n",
    "from sklearn.model_selection import train_test_split, GridSearchCV\n",
    "from sklearn.metrics import accuracy_score, precision_score, recall_score, f1_score, confusion_matrix\n",
    "\n",
    "% matplotlib inline\n",
    "\n",
    "# read in the json files\n",
    "portfolio = pd.read_json('data/portfolio.json', orient='records', lines=True)\n",
    "profile = pd.read_json('data/profile.json', orient='records', lines=True)\n",
    "transcript = pd.read_json('data/transcript.json', orient='records', lines=True)"
   ]
  },
  {
   "cell_type": "code",
   "execution_count": null,
   "metadata": {},
   "outputs": [],
   "source": [
    "# Display the first few rows of each dataframe\n",
    "print(\"Portfolio:\")\n",
    "print(portfolio.head())\n",
    "print(\"\\nProfile:\")\n",
    "print(profile.head())\n",
    "print(\"\\nTranscript:\")\n",
    "print(transcript.head())"
   ]
  },
  {
   "cell_type": "markdown",
   "metadata": {},
   "source": [
    "# Step 02: Understand and clean the data"
   ]
  },
  {
   "cell_type": "code",
   "execution_count": 3,
   "metadata": {},
   "outputs": [
    {
     "name": "stdout",
     "output_type": "stream",
     "text": [
      "<class 'pandas.core.frame.DataFrame'>\n",
      "RangeIndex: 10 entries, 0 to 9\n",
      "Data columns (total 6 columns):\n",
      "channels      10 non-null object\n",
      "difficulty    10 non-null int64\n",
      "duration      10 non-null int64\n",
      "id            10 non-null object\n",
      "offer_type    10 non-null object\n",
      "reward        10 non-null int64\n",
      "dtypes: int64(3), object(3)\n",
      "memory usage: 560.0+ bytes\n",
      "None\n",
      "       difficulty   duration     reward\n",
      "count   10.000000  10.000000  10.000000\n",
      "mean     7.700000   6.500000   4.200000\n",
      "std      5.831905   2.321398   3.583915\n",
      "min      0.000000   3.000000   0.000000\n",
      "25%      5.000000   5.000000   2.000000\n",
      "50%      8.500000   7.000000   4.000000\n",
      "75%     10.000000   7.000000   5.000000\n",
      "max     20.000000  10.000000  10.000000\n",
      "channels      0\n",
      "difficulty    0\n",
      "duration      0\n",
      "id            0\n",
      "offer_type    0\n",
      "reward        0\n",
      "dtype: int64\n"
     ]
    }
   ],
   "source": [
    "#Porfolio data\n",
    "\n",
    "print(portfolio.info())\n",
    "print(portfolio.describe())\n",
    "print(portfolio.isnull().sum())\n"
   ]
  },
  {
   "cell_type": "code",
   "execution_count": 4,
   "metadata": {},
   "outputs": [
    {
     "data": {
      "text/plain": [
       "count       10\n",
       "unique       3\n",
       "top       bogo\n",
       "freq         4\n",
       "Name: offer_type, dtype: object"
      ]
     },
     "execution_count": 4,
     "metadata": {},
     "output_type": "execute_result"
    }
   ],
   "source": [
    "portfolio['offer_type'].describe()"
   ]
  },
  {
   "cell_type": "code",
   "execution_count": 5,
   "metadata": {},
   "outputs": [
    {
     "name": "stdout",
     "output_type": "stream",
     "text": [
      "<class 'pandas.core.frame.DataFrame'>\n",
      "RangeIndex: 17000 entries, 0 to 16999\n",
      "Data columns (total 5 columns):\n",
      "age                 17000 non-null int64\n",
      "became_member_on    17000 non-null int64\n",
      "gender              14825 non-null object\n",
      "id                  17000 non-null object\n",
      "income              14825 non-null float64\n",
      "dtypes: float64(1), int64(2), object(2)\n",
      "memory usage: 664.1+ KB\n",
      "None\n",
      "                age  became_member_on         income\n",
      "count  17000.000000      1.700000e+04   14825.000000\n",
      "mean      62.531412      2.016703e+07   65404.991568\n",
      "std       26.738580      1.167750e+04   21598.299410\n",
      "min       18.000000      2.013073e+07   30000.000000\n",
      "25%       45.000000      2.016053e+07   49000.000000\n",
      "50%       58.000000      2.017080e+07   64000.000000\n",
      "75%       73.000000      2.017123e+07   80000.000000\n",
      "max      118.000000      2.018073e+07  120000.000000\n",
      "age                    0\n",
      "became_member_on       0\n",
      "gender              2175\n",
      "id                     0\n",
      "income              2175\n",
      "dtype: int64\n"
     ]
    }
   ],
   "source": [
    "#Profile data\n",
    "print(profile.info())\n",
    "print(profile.describe())\n",
    "print(profile.isnull().sum())"
   ]
  },
  {
   "cell_type": "code",
   "execution_count": 6,
   "metadata": {},
   "outputs": [],
   "source": [
    "# Handling missing values\n",
    "# Replace missing gender values with 'Unknown'\n",
    "profile['gender'].fillna('Unknown', inplace=True)\n",
    "\n",
    "# Replace missing income values with the median income\n",
    "profile['income'].fillna(profile['income'].median(), inplace=True)\n",
    "\n",
    "# Replace missing age values with the median age\n",
    "profile['age'].replace(118, np.nan, inplace=True)\n",
    "profile['age'].fillna(profile['age'].median(), inplace=True)"
   ]
  },
  {
   "cell_type": "code",
   "execution_count": 7,
   "metadata": {},
   "outputs": [
    {
     "name": "stdout",
     "output_type": "stream",
     "text": [
      "<class 'pandas.core.frame.DataFrame'>\n",
      "RangeIndex: 17000 entries, 0 to 16999\n",
      "Data columns (total 5 columns):\n",
      "age                 17000 non-null float64\n",
      "became_member_on    17000 non-null int64\n",
      "gender              17000 non-null object\n",
      "id                  17000 non-null object\n",
      "income              17000 non-null float64\n",
      "dtypes: float64(2), int64(1), object(2)\n",
      "memory usage: 664.1+ KB\n",
      "None\n",
      "                age  became_member_on         income\n",
      "count  17000.000000      1.700000e+04   17000.000000\n",
      "mean      54.471118      2.016703e+07   65225.235294\n",
      "std       16.234809      1.167750e+04   20174.747749\n",
      "min       18.000000      2.013073e+07   30000.000000\n",
      "25%       45.000000      2.016053e+07   51000.000000\n",
      "50%       55.000000      2.017080e+07   64000.000000\n",
      "75%       65.000000      2.017123e+07   76000.000000\n",
      "max      101.000000      2.018073e+07  120000.000000\n",
      "age                 0\n",
      "became_member_on    0\n",
      "gender              0\n",
      "id                  0\n",
      "income              0\n",
      "dtype: int64\n"
     ]
    }
   ],
   "source": [
    "#Profile data\n",
    "print(profile.info())\n",
    "print(profile.describe())\n",
    "print(profile.isnull().sum())"
   ]
  },
  {
   "cell_type": "code",
   "execution_count": 8,
   "metadata": {},
   "outputs": [
    {
     "name": "stdout",
     "output_type": "stream",
     "text": [
      "            event                            person  time  \\\n",
      "0  offer received  78afa995795e4d85b5d9ceeca43f5fef     0   \n",
      "1  offer received  a03223e636434f42ac4c3df47e8bac43     0   \n",
      "2  offer received  e2127556f4f64592b11af22de27a7932     0   \n",
      "3  offer received  8ec6ce2a7e7949b1bf142def7d0e0586     0   \n",
      "4  offer received  68617ca6246f4fbc85e91a2a49552598     0   \n",
      "\n",
      "                                              value  \n",
      "0  {'offer id': '9b98b8c7a33c4b65b9aebfe6a799e6d9'}  \n",
      "1  {'offer id': '0b1e1539f2cc45b7b9fa7c272da2e1d7'}  \n",
      "2  {'offer id': '2906b810c7d4411798c6938adc9daaa5'}  \n",
      "3  {'offer id': 'fafdcd668e3743c1bb461111dcafc2a4'}  \n",
      "4  {'offer id': '4d5c57ea9a6940dd891ad53e9dbe8da0'}  \n",
      "<class 'pandas.core.frame.DataFrame'>\n",
      "RangeIndex: 306534 entries, 0 to 306533\n",
      "Data columns (total 4 columns):\n",
      "event     306534 non-null object\n",
      "person    306534 non-null object\n",
      "time      306534 non-null int64\n",
      "value     306534 non-null object\n",
      "dtypes: int64(1), object(3)\n",
      "memory usage: 9.4+ MB\n",
      "None\n",
      "                time\n",
      "count  306534.000000\n",
      "mean      366.382940\n",
      "std       200.326314\n",
      "min         0.000000\n",
      "25%       186.000000\n",
      "50%       408.000000\n",
      "75%       528.000000\n",
      "max       714.000000\n",
      "event     0\n",
      "person    0\n",
      "time      0\n",
      "value     0\n",
      "dtype: int64\n"
     ]
    }
   ],
   "source": [
    "#Transcript datapr\n",
    "print(transcript.head())\n",
    "print(transcript.info())\n",
    "print(transcript.describe())\n",
    "print(transcript.isnull().sum())"
   ]
  },
  {
   "cell_type": "markdown",
   "metadata": {},
   "source": [
    "# Step 03 : Merge the datasets"
   ]
  },
  {
   "cell_type": "code",
   "execution_count": 9,
   "metadata": {},
   "outputs": [
    {
     "name": "stdout",
     "output_type": "stream",
     "text": [
      "First, we expand the value column in the transcript dataset\n",
      "then we merge the transcript and profile datasets\n",
      "and merge the resulting dataframe with the portfolio dataset\n"
     ]
    }
   ],
   "source": [
    "#First, we expand the 'value' column in the transcript dataset\n",
    "print('First, we expand the ''value'' column in the transcript dataset')\n",
    "transcript = pd.concat([transcript.drop(['value'], axis=1), transcript['value'].apply(pd.Series)], axis=1)\n",
    "\n",
    "# Create dummy variables for offer_type in the portfolio DataFrame\n",
    "portfolio = pd.get_dummies(portfolio, columns=['offer_type'])\n",
    "\n",
    "# Merge the transcript and profile datasets\n",
    "print('then we merge the transcript and profile datasets')\n",
    "data = transcript.merge(profile, left_on='person', right_on='id', how='left')\n",
    "\n",
    "# Merge the resulting dataframe with the portfolio dataset\n",
    "print('and merge the resulting dataframe with the portfolio dataset')\n",
    "data = data.merge(portfolio, left_on='offer_id', right_on='id', how='left')\n"
   ]
  },
  {
   "cell_type": "code",
   "execution_count": 10,
   "metadata": {},
   "outputs": [
    {
     "name": "stdout",
     "output_type": "stream",
     "text": [
      "            event                            person  time  \\\n",
      "0  offer received  78afa995795e4d85b5d9ceeca43f5fef     0   \n",
      "1  offer received  a03223e636434f42ac4c3df47e8bac43     0   \n",
      "2  offer received  e2127556f4f64592b11af22de27a7932     0   \n",
      "3  offer received  8ec6ce2a7e7949b1bf142def7d0e0586     0   \n",
      "4  offer received  68617ca6246f4fbc85e91a2a49552598     0   \n",
      "\n",
      "                           offer id  amount offer_id  reward_x   age  \\\n",
      "0  9b98b8c7a33c4b65b9aebfe6a799e6d9     NaN      NaN       NaN  75.0   \n",
      "1  0b1e1539f2cc45b7b9fa7c272da2e1d7     NaN      NaN       NaN  55.0   \n",
      "2  2906b810c7d4411798c6938adc9daaa5     NaN      NaN       NaN  68.0   \n",
      "3  fafdcd668e3743c1bb461111dcafc2a4     NaN      NaN       NaN  55.0   \n",
      "4  4d5c57ea9a6940dd891ad53e9dbe8da0     NaN      NaN       NaN  55.0   \n",
      "\n",
      "   became_member_on   gender                              id_x    income  \\\n",
      "0          20170509        F  78afa995795e4d85b5d9ceeca43f5fef  100000.0   \n",
      "1          20170804  Unknown  a03223e636434f42ac4c3df47e8bac43   64000.0   \n",
      "2          20180426        M  e2127556f4f64592b11af22de27a7932   70000.0   \n",
      "3          20170925  Unknown  8ec6ce2a7e7949b1bf142def7d0e0586   64000.0   \n",
      "4          20171002  Unknown  68617ca6246f4fbc85e91a2a49552598   64000.0   \n",
      "\n",
      "  channels  difficulty  duration id_y  reward_y  offer_type_bogo  \\\n",
      "0      NaN         NaN       NaN  NaN       NaN              NaN   \n",
      "1      NaN         NaN       NaN  NaN       NaN              NaN   \n",
      "2      NaN         NaN       NaN  NaN       NaN              NaN   \n",
      "3      NaN         NaN       NaN  NaN       NaN              NaN   \n",
      "4      NaN         NaN       NaN  NaN       NaN              NaN   \n",
      "\n",
      "   offer_type_discount  offer_type_informational  \n",
      "0                  NaN                       NaN  \n",
      "1                  NaN                       NaN  \n",
      "2                  NaN                       NaN  \n",
      "3                  NaN                       NaN  \n",
      "4                  NaN                       NaN  \n",
      "<class 'pandas.core.frame.DataFrame'>\n",
      "Int64Index: 306534 entries, 0 to 306533\n",
      "Data columns (total 20 columns):\n",
      "event                       306534 non-null object\n",
      "person                      306534 non-null object\n",
      "time                        306534 non-null int64\n",
      "offer id                    134002 non-null object\n",
      "amount                      138953 non-null float64\n",
      "offer_id                    33579 non-null object\n",
      "reward_x                    33579 non-null float64\n",
      "age                         306534 non-null float64\n",
      "became_member_on            306534 non-null int64\n",
      "gender                      306534 non-null object\n",
      "id_x                        306534 non-null object\n",
      "income                      306534 non-null float64\n",
      "channels                    33579 non-null object\n",
      "difficulty                  33579 non-null float64\n",
      "duration                    33579 non-null float64\n",
      "id_y                        33579 non-null object\n",
      "reward_y                    33579 non-null float64\n",
      "offer_type_bogo             33579 non-null float64\n",
      "offer_type_discount         33579 non-null float64\n",
      "offer_type_informational    33579 non-null float64\n",
      "dtypes: float64(10), int64(2), object(8)\n",
      "memory usage: 49.1+ MB\n",
      "None\n",
      "event                            0\n",
      "person                           0\n",
      "time                             0\n",
      "offer id                    172532\n",
      "amount                      167581\n",
      "offer_id                    272955\n",
      "reward_x                    272955\n",
      "age                              0\n",
      "became_member_on                 0\n",
      "gender                           0\n",
      "id_x                             0\n",
      "income                           0\n",
      "channels                    272955\n",
      "difficulty                  272955\n",
      "duration                    272955\n",
      "id_y                        272955\n",
      "reward_y                    272955\n",
      "offer_type_bogo             272955\n",
      "offer_type_discount         272955\n",
      "offer_type_informational    272955\n",
      "dtype: int64\n"
     ]
    }
   ],
   "source": [
    "# Check the changes\n",
    "print(data.head())\n",
    "print(data.info())\n",
    "print(data.isnull().sum())"
   ]
  },
  {
   "cell_type": "code",
   "execution_count": null,
   "metadata": {},
   "outputs": [],
   "source": []
  },
  {
   "cell_type": "markdown",
   "metadata": {},
   "source": [
    "# Step 04 : Feature Engineering"
   ]
  },
  {
   "cell_type": "code",
   "execution_count": 11,
   "metadata": {},
   "outputs": [
    {
     "name": "stdout",
     "output_type": "stream",
     "text": [
      "Converting became_member_on to datetime\n",
      "Calculating the date of the event\n",
      "Calculating the maximum event time in the dataset\n",
      "Creating a new feature membership_duration in days\n",
      "Checking if the necessary columns are present\n",
      "Index(['event', 'person', 'time', 'offer id', 'amount', 'offer_id', 'reward_x',\n",
      "       'age', 'became_member_on', 'gender', 'id_x', 'income', 'channels',\n",
      "       'difficulty', 'duration', 'id_y', 'reward_y', 'offer_type_bogo',\n",
      "       'offer_type_discount', 'offer_type_informational', 'event_time',\n",
      "       'membership_duration'],\n",
      "      dtype='object')\n"
     ]
    }
   ],
   "source": [
    "# Convert 'became_member_on' to datetime\n",
    "print('Converting ''became_member_on'' to datetime')\n",
    "data['became_member_on'] = pd.to_datetime(profile['became_member_on'], format='%Y%m%d')\n",
    "\n",
    "# Calculate the date of the event\n",
    "print('Calculating the date of the event')\n",
    "data['event_time'] = pd.to_datetime(data['time'], unit='h', origin='2018-01-01')\n",
    "\n",
    "# Calculate the maximum event time in the dataset\n",
    "print('Calculating the maximum event time in the dataset')\n",
    "max_event_time = data['event_time'].max()\n",
    "\n",
    "# Create a new feature 'membership_duration' in days\n",
    "print('Creating a new feature ''membership_duration'' in days')\n",
    "data['membership_duration'] = (max_event_time - data['became_member_on']).dt.days\n",
    "\n",
    "# Check if the necessary columns are present\n",
    "print('Checking if the necessary columns are present')\n",
    "print(data.columns)\n",
    "\n",
    "\n",
    "\n",
    "\n",
    "\n",
    "\n",
    "\n"
   ]
  },
  {
   "cell_type": "code",
   "execution_count": 12,
   "metadata": {
    "scrolled": true
   },
   "outputs": [
    {
     "name": "stdout",
     "output_type": "stream",
     "text": [
      "            event                            person  time  \\\n",
      "0  offer received  78afa995795e4d85b5d9ceeca43f5fef     0   \n",
      "1  offer received  a03223e636434f42ac4c3df47e8bac43     0   \n",
      "2  offer received  e2127556f4f64592b11af22de27a7932     0   \n",
      "3  offer received  8ec6ce2a7e7949b1bf142def7d0e0586     0   \n",
      "4  offer received  68617ca6246f4fbc85e91a2a49552598     0   \n",
      "\n",
      "                           offer id  amount offer_id  reward_x   age  \\\n",
      "0  9b98b8c7a33c4b65b9aebfe6a799e6d9     NaN      NaN       NaN  75.0   \n",
      "1  0b1e1539f2cc45b7b9fa7c272da2e1d7     NaN      NaN       NaN  55.0   \n",
      "2  2906b810c7d4411798c6938adc9daaa5     NaN      NaN       NaN  68.0   \n",
      "3  fafdcd668e3743c1bb461111dcafc2a4     NaN      NaN       NaN  55.0   \n",
      "4  4d5c57ea9a6940dd891ad53e9dbe8da0     NaN      NaN       NaN  55.0   \n",
      "\n",
      "  became_member_on   gender         ...          channels  difficulty  \\\n",
      "0       2017-02-12        F         ...               NaN         NaN   \n",
      "1       2017-07-15  Unknown         ...               NaN         NaN   \n",
      "2       2018-07-12        M         ...               NaN         NaN   \n",
      "3       2017-05-09  Unknown         ...               NaN         NaN   \n",
      "4       2017-08-04  Unknown         ...               NaN         NaN   \n",
      "\n",
      "  duration  id_y  reward_y offer_type_bogo  offer_type_discount  \\\n",
      "0      NaN   NaN       NaN             NaN                  NaN   \n",
      "1      NaN   NaN       NaN             NaN                  NaN   \n",
      "2      NaN   NaN       NaN             NaN                  NaN   \n",
      "3      NaN   NaN       NaN             NaN                  NaN   \n",
      "4      NaN   NaN       NaN             NaN                  NaN   \n",
      "\n",
      "   offer_type_informational  event_time  membership_duration  \n",
      "0                       NaN  2018-01-01                352.0  \n",
      "1                       NaN  2018-01-01                199.0  \n",
      "2                       NaN  2018-01-01               -163.0  \n",
      "3                       NaN  2018-01-01                266.0  \n",
      "4                       NaN  2018-01-01                179.0  \n",
      "\n",
      "[5 rows x 22 columns]\n",
      "<class 'pandas.core.frame.DataFrame'>\n",
      "Int64Index: 306534 entries, 0 to 306533\n",
      "Data columns (total 22 columns):\n",
      "event                       306534 non-null object\n",
      "person                      306534 non-null object\n",
      "time                        306534 non-null int64\n",
      "offer id                    134002 non-null object\n",
      "amount                      138953 non-null float64\n",
      "offer_id                    33579 non-null object\n",
      "reward_x                    33579 non-null float64\n",
      "age                         306534 non-null float64\n",
      "became_member_on            17000 non-null datetime64[ns]\n",
      "gender                      306534 non-null object\n",
      "id_x                        306534 non-null object\n",
      "income                      306534 non-null float64\n",
      "channels                    33579 non-null object\n",
      "difficulty                  33579 non-null float64\n",
      "duration                    33579 non-null float64\n",
      "id_y                        33579 non-null object\n",
      "reward_y                    33579 non-null float64\n",
      "offer_type_bogo             33579 non-null float64\n",
      "offer_type_discount         33579 non-null float64\n",
      "offer_type_informational    33579 non-null float64\n",
      "event_time                  306534 non-null datetime64[ns]\n",
      "membership_duration         17000 non-null float64\n",
      "dtypes: datetime64[ns](2), float64(11), int64(1), object(8)\n",
      "memory usage: 53.8+ MB\n",
      "None\n",
      "event                            0\n",
      "person                           0\n",
      "time                             0\n",
      "offer id                    172532\n",
      "amount                      167581\n",
      "offer_id                    272955\n",
      "reward_x                    272955\n",
      "age                              0\n",
      "became_member_on            289534\n",
      "gender                           0\n",
      "id_x                             0\n",
      "income                           0\n",
      "channels                    272955\n",
      "difficulty                  272955\n",
      "duration                    272955\n",
      "id_y                        272955\n",
      "reward_y                    272955\n",
      "offer_type_bogo             272955\n",
      "offer_type_discount         272955\n",
      "offer_type_informational    272955\n",
      "event_time                       0\n",
      "membership_duration         289534\n",
      "dtype: int64\n"
     ]
    }
   ],
   "source": [
    "# Check the changes\n",
    "print(data.head())\n",
    "print(data.info())\n",
    "print(data.isnull().sum())"
   ]
  },
  {
   "cell_type": "code",
   "execution_count": 13,
   "metadata": {},
   "outputs": [
    {
     "name": "stdout",
     "output_type": "stream",
     "text": [
      "Handling NaN values in channels column\n",
      "Creating dummy variables for categorical features\n",
      "Expanding channels into dummy variables\n",
      "Handling the eventcolumn to create response variables\n",
      "Handling missing values in offer_id by filling with a placeholder\n"
     ]
    }
   ],
   "source": [
    "# Handle NaN values in 'channels' column\n",
    "print('Handling NaN values in ''channels'' column')\n",
    "data['channels'] = data['channels'].apply(lambda x: x if isinstance(x, list) else [])\n",
    "\n",
    "\n",
    "# Create dummy variables for categorical features\n",
    "print('Creating dummy variables for categorical features')\n",
    "data = pd.get_dummies(data, columns=['gender'], drop_first=True)\n",
    "\n",
    "# Expand 'channels' into dummy variables\n",
    "print('Expanding ''channels'' into dummy variables')\n",
    "channels_dummies = data['channels'].apply(lambda x: pd.Series(1, index=x)).fillna(0).astype(int)\n",
    "data = pd.concat([data.drop('channels', axis=1), channels_dummies], axis=1)\n",
    "\n",
    "# Handle the 'event' column to create response variables\n",
    "print('Handling the ''event''column to create response variables')\n",
    "data['offer_received'] = (data['event'] == 'offer received').astype(int)\n",
    "data['offer_viewed'] = (data['event'] == 'offer viewed').astype(int)\n",
    "data['offer_completed'] = (data['event'] == 'offer completed').astype(int)\n",
    "\n",
    "\n",
    "\n",
    "# Handle missing values in 'offer_id' by filling with a placeholder\n",
    "print('Handling missing values in ''offer_id'' by filling with a placeholder')\n",
    "data['offer_id'].fillna('no_offer', inplace=True)\n",
    "\n",
    "\n",
    "\n",
    "\n",
    "\n"
   ]
  },
  {
   "cell_type": "code",
   "execution_count": 14,
   "metadata": {},
   "outputs": [
    {
     "name": "stdout",
     "output_type": "stream",
     "text": [
      "            event                            person  time  \\\n",
      "0  offer received  78afa995795e4d85b5d9ceeca43f5fef     0   \n",
      "1  offer received  a03223e636434f42ac4c3df47e8bac43     0   \n",
      "2  offer received  e2127556f4f64592b11af22de27a7932     0   \n",
      "3  offer received  8ec6ce2a7e7949b1bf142def7d0e0586     0   \n",
      "4  offer received  68617ca6246f4fbc85e91a2a49552598     0   \n",
      "\n",
      "                           offer id  amount  offer_id  reward_x   age  \\\n",
      "0  9b98b8c7a33c4b65b9aebfe6a799e6d9     NaN  no_offer       NaN  75.0   \n",
      "1  0b1e1539f2cc45b7b9fa7c272da2e1d7     NaN  no_offer       NaN  55.0   \n",
      "2  2906b810c7d4411798c6938adc9daaa5     NaN  no_offer       NaN  68.0   \n",
      "3  fafdcd668e3743c1bb461111dcafc2a4     NaN  no_offer       NaN  55.0   \n",
      "4  4d5c57ea9a6940dd891ad53e9dbe8da0     NaN  no_offer       NaN  55.0   \n",
      "\n",
      "  became_member_on                              id_x       ...         \\\n",
      "0       2017-02-12  78afa995795e4d85b5d9ceeca43f5fef       ...          \n",
      "1       2017-07-15  a03223e636434f42ac4c3df47e8bac43       ...          \n",
      "2       2018-07-12  e2127556f4f64592b11af22de27a7932       ...          \n",
      "3       2017-05-09  8ec6ce2a7e7949b1bf142def7d0e0586       ...          \n",
      "4       2017-08-04  68617ca6246f4fbc85e91a2a49552598       ...          \n",
      "\n",
      "   gender_M  gender_O  gender_Unknown web  email  mobile  social  \\\n",
      "0         0         0               0   0      0       0       0   \n",
      "1         0         0               1   0      0       0       0   \n",
      "2         1         0               0   0      0       0       0   \n",
      "3         0         0               1   0      0       0       0   \n",
      "4         0         0               1   0      0       0       0   \n",
      "\n",
      "   offer_received offer_viewed  offer_completed  \n",
      "0               1            0                0  \n",
      "1               1            0                0  \n",
      "2               1            0                0  \n",
      "3               1            0                0  \n",
      "4               1            0                0  \n",
      "\n",
      "[5 rows x 30 columns]\n",
      "<class 'pandas.core.frame.DataFrame'>\n",
      "Int64Index: 306534 entries, 0 to 306533\n",
      "Data columns (total 30 columns):\n",
      "event                       306534 non-null object\n",
      "person                      306534 non-null object\n",
      "time                        306534 non-null int64\n",
      "offer id                    134002 non-null object\n",
      "amount                      138953 non-null float64\n",
      "offer_id                    306534 non-null object\n",
      "reward_x                    33579 non-null float64\n",
      "age                         306534 non-null float64\n",
      "became_member_on            17000 non-null datetime64[ns]\n",
      "id_x                        306534 non-null object\n",
      "income                      306534 non-null float64\n",
      "difficulty                  33579 non-null float64\n",
      "duration                    33579 non-null float64\n",
      "id_y                        33579 non-null object\n",
      "reward_y                    33579 non-null float64\n",
      "offer_type_bogo             33579 non-null float64\n",
      "offer_type_discount         33579 non-null float64\n",
      "offer_type_informational    33579 non-null float64\n",
      "event_time                  306534 non-null datetime64[ns]\n",
      "membership_duration         17000 non-null float64\n",
      "gender_M                    306534 non-null uint8\n",
      "gender_O                    306534 non-null uint8\n",
      "gender_Unknown              306534 non-null uint8\n",
      "web                         306534 non-null int64\n",
      "email                       306534 non-null int64\n",
      "mobile                      306534 non-null int64\n",
      "social                      306534 non-null int64\n",
      "offer_received              306534 non-null int64\n",
      "offer_viewed                306534 non-null int64\n",
      "offer_completed             306534 non-null int64\n",
      "dtypes: datetime64[ns](2), float64(11), int64(8), object(6), uint8(3)\n",
      "memory usage: 66.4+ MB\n",
      "None\n",
      "event                            0\n",
      "person                           0\n",
      "time                             0\n",
      "offer id                    172532\n",
      "amount                      167581\n",
      "offer_id                         0\n",
      "reward_x                    272955\n",
      "age                              0\n",
      "became_member_on            289534\n",
      "id_x                             0\n",
      "income                           0\n",
      "difficulty                  272955\n",
      "duration                    272955\n",
      "id_y                        272955\n",
      "reward_y                    272955\n",
      "offer_type_bogo             272955\n",
      "offer_type_discount         272955\n",
      "offer_type_informational    272955\n",
      "event_time                       0\n",
      "membership_duration         289534\n",
      "gender_M                         0\n",
      "gender_O                         0\n",
      "gender_Unknown                   0\n",
      "web                              0\n",
      "email                            0\n",
      "mobile                           0\n",
      "social                           0\n",
      "offer_received                   0\n",
      "offer_viewed                     0\n",
      "offer_completed                  0\n",
      "dtype: int64\n"
     ]
    }
   ],
   "source": [
    "# Check the changes\n",
    "print(data.head())\n",
    "print(data.info())\n",
    "print(data.isnull().sum())"
   ]
  },
  {
   "cell_type": "code",
   "execution_count": 15,
   "metadata": {},
   "outputs": [
    {
     "name": "stdout",
     "output_type": "stream",
     "text": [
      "Dropping unnecessary columns\n"
     ]
    }
   ],
   "source": [
    "# Drop unnecessary columns\n",
    "print('Dropping unnecessary columns')\n",
    "data.drop(['id_x', 'id_y', 'person', 'event', 'time', 'became_member_on','offer id', 'event_time'], axis=1, inplace=True)\n"
   ]
  },
  {
   "cell_type": "code",
   "execution_count": 16,
   "metadata": {},
   "outputs": [
    {
     "name": "stdout",
     "output_type": "stream",
     "text": [
      "   amount  offer_id  reward_x   age    income  difficulty  duration  reward_y  \\\n",
      "0     NaN  no_offer       NaN  75.0  100000.0         NaN       NaN       NaN   \n",
      "1     NaN  no_offer       NaN  55.0   64000.0         NaN       NaN       NaN   \n",
      "2     NaN  no_offer       NaN  68.0   70000.0         NaN       NaN       NaN   \n",
      "3     NaN  no_offer       NaN  55.0   64000.0         NaN       NaN       NaN   \n",
      "4     NaN  no_offer       NaN  55.0   64000.0         NaN       NaN       NaN   \n",
      "\n",
      "   offer_type_bogo  offer_type_discount       ...         gender_M  gender_O  \\\n",
      "0              NaN                  NaN       ...                0         0   \n",
      "1              NaN                  NaN       ...                0         0   \n",
      "2              NaN                  NaN       ...                1         0   \n",
      "3              NaN                  NaN       ...                0         0   \n",
      "4              NaN                  NaN       ...                0         0   \n",
      "\n",
      "   gender_Unknown  web  email  mobile  social  offer_received  offer_viewed  \\\n",
      "0               0    0      0       0       0               1             0   \n",
      "1               1    0      0       0       0               1             0   \n",
      "2               0    0      0       0       0               1             0   \n",
      "3               1    0      0       0       0               1             0   \n",
      "4               1    0      0       0       0               1             0   \n",
      "\n",
      "   offer_completed  \n",
      "0                0  \n",
      "1                0  \n",
      "2                0  \n",
      "3                0  \n",
      "4                0  \n",
      "\n",
      "[5 rows x 22 columns]\n",
      "<class 'pandas.core.frame.DataFrame'>\n",
      "Int64Index: 306534 entries, 0 to 306533\n",
      "Data columns (total 22 columns):\n",
      "amount                      138953 non-null float64\n",
      "offer_id                    306534 non-null object\n",
      "reward_x                    33579 non-null float64\n",
      "age                         306534 non-null float64\n",
      "income                      306534 non-null float64\n",
      "difficulty                  33579 non-null float64\n",
      "duration                    33579 non-null float64\n",
      "reward_y                    33579 non-null float64\n",
      "offer_type_bogo             33579 non-null float64\n",
      "offer_type_discount         33579 non-null float64\n",
      "offer_type_informational    33579 non-null float64\n",
      "membership_duration         17000 non-null float64\n",
      "gender_M                    306534 non-null uint8\n",
      "gender_O                    306534 non-null uint8\n",
      "gender_Unknown              306534 non-null uint8\n",
      "web                         306534 non-null int64\n",
      "email                       306534 non-null int64\n",
      "mobile                      306534 non-null int64\n",
      "social                      306534 non-null int64\n",
      "offer_received              306534 non-null int64\n",
      "offer_viewed                306534 non-null int64\n",
      "offer_completed             306534 non-null int64\n",
      "dtypes: float64(11), int64(7), object(1), uint8(3)\n",
      "memory usage: 47.7+ MB\n",
      "None\n",
      "amount                      167581\n",
      "offer_id                         0\n",
      "reward_x                    272955\n",
      "age                              0\n",
      "income                           0\n",
      "difficulty                  272955\n",
      "duration                    272955\n",
      "reward_y                    272955\n",
      "offer_type_bogo             272955\n",
      "offer_type_discount         272955\n",
      "offer_type_informational    272955\n",
      "membership_duration         289534\n",
      "gender_M                         0\n",
      "gender_O                         0\n",
      "gender_Unknown                   0\n",
      "web                              0\n",
      "email                            0\n",
      "mobile                           0\n",
      "social                           0\n",
      "offer_received                   0\n",
      "offer_viewed                     0\n",
      "offer_completed                  0\n",
      "dtype: int64\n"
     ]
    }
   ],
   "source": [
    "# Check the changes\n",
    "print(data.head())\n",
    "print(data.info())\n",
    "print(data.isnull().sum())"
   ]
  },
  {
   "cell_type": "code",
   "execution_count": 17,
   "metadata": {},
   "outputs": [
    {
     "name": "stdout",
     "output_type": "stream",
     "text": [
      "Handling missing values\n"
     ]
    }
   ],
   "source": [
    "# Handle missing values\n",
    "print('Handling missing values')\n",
    "data.fillna(data.median(), inplace=True)\n"
   ]
  },
  {
   "cell_type": "code",
   "execution_count": 18,
   "metadata": {},
   "outputs": [
    {
     "name": "stdout",
     "output_type": "stream",
     "text": [
      "Creating a temporary offer_type column for EDA purposes\n"
     ]
    }
   ],
   "source": [
    "# Create a temporary 'offer_type' column for EDA purposes\n",
    "print('Creating a temporary ''offer_type'' column for EDA purposes')\n",
    "# Create a new 'offer_type' column for visualization\n",
    "data['offer_type'] = np.where(data['offer_type_discount'] == 1, 'discount',\n",
    "                                    np.where(data['offer_type_informational'] == 1, 'informational',\n",
    "                                             np.where(data['offer_type_bogo'] == 1, 'bogo', 'other')))"
   ]
  },
  {
   "cell_type": "code",
   "execution_count": 19,
   "metadata": {},
   "outputs": [
    {
     "name": "stdout",
     "output_type": "stream",
     "text": [
      "['discount' 'bogo']\n"
     ]
    }
   ],
   "source": [
    "print(data['offer_type'].unique())\n"
   ]
  },
  {
   "cell_type": "code",
   "execution_count": 20,
   "metadata": {},
   "outputs": [
    {
     "name": "stdout",
     "output_type": "stream",
     "text": [
      "   amount  offer_id  reward_x   age    income  difficulty  duration  reward_y  \\\n",
      "0    8.89  no_offer       5.0  75.0  100000.0        10.0       7.0       5.0   \n",
      "1    8.89  no_offer       5.0  55.0   64000.0        10.0       7.0       5.0   \n",
      "2    8.89  no_offer       5.0  68.0   70000.0        10.0       7.0       5.0   \n",
      "3    8.89  no_offer       5.0  55.0   64000.0        10.0       7.0       5.0   \n",
      "4    8.89  no_offer       5.0  55.0   64000.0        10.0       7.0       5.0   \n",
      "\n",
      "   offer_type_bogo  offer_type_discount     ...      gender_O  gender_Unknown  \\\n",
      "0              0.0                  1.0     ...             0               0   \n",
      "1              0.0                  1.0     ...             0               1   \n",
      "2              0.0                  1.0     ...             0               0   \n",
      "3              0.0                  1.0     ...             0               1   \n",
      "4              0.0                  1.0     ...             0               1   \n",
      "\n",
      "   web  email  mobile  social  offer_received  offer_viewed  offer_completed  \\\n",
      "0    0      0       0       0               1             0                0   \n",
      "1    0      0       0       0               1             0                0   \n",
      "2    0      0       0       0               1             0                0   \n",
      "3    0      0       0       0               1             0                0   \n",
      "4    0      0       0       0               1             0                0   \n",
      "\n",
      "   offer_type  \n",
      "0    discount  \n",
      "1    discount  \n",
      "2    discount  \n",
      "3    discount  \n",
      "4    discount  \n",
      "\n",
      "[5 rows x 23 columns]\n",
      "<class 'pandas.core.frame.DataFrame'>\n",
      "Int64Index: 306534 entries, 0 to 306533\n",
      "Data columns (total 23 columns):\n",
      "amount                      306534 non-null float64\n",
      "offer_id                    306534 non-null object\n",
      "reward_x                    306534 non-null float64\n",
      "age                         306534 non-null float64\n",
      "income                      306534 non-null float64\n",
      "difficulty                  306534 non-null float64\n",
      "duration                    306534 non-null float64\n",
      "reward_y                    306534 non-null float64\n",
      "offer_type_bogo             306534 non-null float64\n",
      "offer_type_discount         306534 non-null float64\n",
      "offer_type_informational    306534 non-null float64\n",
      "membership_duration         306534 non-null float64\n",
      "gender_M                    306534 non-null uint8\n",
      "gender_O                    306534 non-null uint8\n",
      "gender_Unknown              306534 non-null uint8\n",
      "web                         306534 non-null int64\n",
      "email                       306534 non-null int64\n",
      "mobile                      306534 non-null int64\n",
      "social                      306534 non-null int64\n",
      "offer_received              306534 non-null int64\n",
      "offer_viewed                306534 non-null int64\n",
      "offer_completed             306534 non-null int64\n",
      "offer_type                  306534 non-null object\n",
      "dtypes: float64(11), int64(7), object(2), uint8(3)\n",
      "memory usage: 50.0+ MB\n",
      "None\n",
      "amount                      0\n",
      "offer_id                    0\n",
      "reward_x                    0\n",
      "age                         0\n",
      "income                      0\n",
      "difficulty                  0\n",
      "duration                    0\n",
      "reward_y                    0\n",
      "offer_type_bogo             0\n",
      "offer_type_discount         0\n",
      "offer_type_informational    0\n",
      "membership_duration         0\n",
      "gender_M                    0\n",
      "gender_O                    0\n",
      "gender_Unknown              0\n",
      "web                         0\n",
      "email                       0\n",
      "mobile                      0\n",
      "social                      0\n",
      "offer_received              0\n",
      "offer_viewed                0\n",
      "offer_completed             0\n",
      "offer_type                  0\n",
      "dtype: int64\n"
     ]
    }
   ],
   "source": [
    "# Check the changes\n",
    "print(data.head())\n",
    "print(data.info())\n",
    "print(data.isnull().sum())"
   ]
  },
  {
   "cell_type": "code",
   "execution_count": null,
   "metadata": {},
   "outputs": [],
   "source": []
  },
  {
   "cell_type": "code",
   "execution_count": 21,
   "metadata": {},
   "outputs": [
    {
     "name": "stdout",
     "output_type": "stream",
     "text": [
      "   amount  offer_id  reward_x   age    income  difficulty  duration  reward_y  \\\n",
      "0    8.89  no_offer       5.0  75.0  100000.0        10.0       7.0       5.0   \n",
      "1    8.89  no_offer       5.0  55.0   64000.0        10.0       7.0       5.0   \n",
      "2    8.89  no_offer       5.0  68.0   70000.0        10.0       7.0       5.0   \n",
      "3    8.89  no_offer       5.0  55.0   64000.0        10.0       7.0       5.0   \n",
      "4    8.89  no_offer       5.0  55.0   64000.0        10.0       7.0       5.0   \n",
      "\n",
      "   offer_type_bogo  offer_type_discount     ...      gender_O  gender_Unknown  \\\n",
      "0              0.0                  1.0     ...             0               0   \n",
      "1              0.0                  1.0     ...             0               1   \n",
      "2              0.0                  1.0     ...             0               0   \n",
      "3              0.0                  1.0     ...             0               1   \n",
      "4              0.0                  1.0     ...             0               1   \n",
      "\n",
      "   web  email  mobile  social  offer_received  offer_viewed  offer_completed  \\\n",
      "0    0      0       0       0               1             0                0   \n",
      "1    0      0       0       0               1             0                0   \n",
      "2    0      0       0       0               1             0                0   \n",
      "3    0      0       0       0               1             0                0   \n",
      "4    0      0       0       0               1             0                0   \n",
      "\n",
      "   offer_type  \n",
      "0    discount  \n",
      "1    discount  \n",
      "2    discount  \n",
      "3    discount  \n",
      "4    discount  \n",
      "\n",
      "[5 rows x 23 columns]\n",
      "<class 'pandas.core.frame.DataFrame'>\n",
      "Int64Index: 306534 entries, 0 to 306533\n",
      "Data columns (total 23 columns):\n",
      "amount                      306534 non-null float64\n",
      "offer_id                    306534 non-null object\n",
      "reward_x                    306534 non-null float64\n",
      "age                         306534 non-null float64\n",
      "income                      306534 non-null float64\n",
      "difficulty                  306534 non-null float64\n",
      "duration                    306534 non-null float64\n",
      "reward_y                    306534 non-null float64\n",
      "offer_type_bogo             306534 non-null float64\n",
      "offer_type_discount         306534 non-null float64\n",
      "offer_type_informational    306534 non-null float64\n",
      "membership_duration         306534 non-null float64\n",
      "gender_M                    306534 non-null uint8\n",
      "gender_O                    306534 non-null uint8\n",
      "gender_Unknown              306534 non-null uint8\n",
      "web                         306534 non-null int64\n",
      "email                       306534 non-null int64\n",
      "mobile                      306534 non-null int64\n",
      "social                      306534 non-null int64\n",
      "offer_received              306534 non-null int64\n",
      "offer_viewed                306534 non-null int64\n",
      "offer_completed             306534 non-null int64\n",
      "offer_type                  306534 non-null object\n",
      "dtypes: float64(11), int64(7), object(2), uint8(3)\n",
      "memory usage: 50.0+ MB\n",
      "None\n",
      "amount                      0\n",
      "offer_id                    0\n",
      "reward_x                    0\n",
      "age                         0\n",
      "income                      0\n",
      "difficulty                  0\n",
      "duration                    0\n",
      "reward_y                    0\n",
      "offer_type_bogo             0\n",
      "offer_type_discount         0\n",
      "offer_type_informational    0\n",
      "membership_duration         0\n",
      "gender_M                    0\n",
      "gender_O                    0\n",
      "gender_Unknown              0\n",
      "web                         0\n",
      "email                       0\n",
      "mobile                      0\n",
      "social                      0\n",
      "offer_received              0\n",
      "offer_viewed                0\n",
      "offer_completed             0\n",
      "offer_type                  0\n",
      "dtype: int64\n"
     ]
    }
   ],
   "source": [
    "# Check the changes\n",
    "print(data.head())\n",
    "print(data.info())\n",
    "print(data.isnull().sum())"
   ]
  },
  {
   "cell_type": "code",
   "execution_count": 22,
   "metadata": {
    "scrolled": false
   },
   "outputs": [
    {
     "data": {
      "image/png": "[encoded data removed]",
      "text/plain": [
       "<matplotlib.figure.Figure at 0x7c5c5100de10>"
      ]
     },
     "metadata": {
      "needs_background": "light"
     },
     "output_type": "display_data"
    },
    {
     "data": {
      "image/png": "[encoded data removed]",
      "text/plain": [
       "<matplotlib.figure.Figure at 0x7c5c512177f0>"
      ]
     },
     "metadata": {
      "needs_background": "light"
     },
     "output_type": "display_data"
    },
    {
     "data": {
      "image/png": "[encoded data removed]",
      "text/plain": [
       "<matplotlib.figure.Figure at 0x7c5c514a3860>"
      ]
     },
     "metadata": {
      "needs_background": "light"
     },
     "output_type": "display_data"
    },
    {
     "data": {
      "image/png": "[encoded data removed]",
      "text/plain": [
       "<matplotlib.figure.Figure at 0x7c5c5124bef0>"
      ]
     },
     "metadata": {
      "needs_background": "light"
     },
     "output_type": "display_data"
    },
    {
     "data": {
      "image/png": "[encoded data removed]",
      "text/plain": [
       "<matplotlib.figure.Figure at 0x7c5c5123a2b0>"
      ]
     },
     "metadata": {
      "needs_background": "light"
     },
     "output_type": "display_data"
    },
    {
     "data": {
      "image/png": "[encoded data removed]",
      "text/plain": [
       "<matplotlib.figure.Figure at 0x7c5c5161c780>"
      ]
     },
     "metadata": {
      "needs_background": "light"
     },
     "output_type": "display_data"
    }
   ],
   "source": [
    "\n",
    "\n",
    "# Distribution of income\n",
    "plt.figure(figsize=(10, 6))\n",
    "sns.distplot(data['income'].dropna(), bins=30, kde=True)\n",
    "plt.title('Distribution of Income')\n",
    "plt.xlabel('Income')\n",
    "plt.ylabel('Frequency')\n",
    "plt.show()\n",
    "\n",
    "# Distribution of age\n",
    "plt.figure(figsize=(10, 6))\n",
    "sns.distplot(data['age'].dropna(), bins=30, kde=True)\n",
    "plt.title('Distribution of Age')\n",
    "plt.xlabel('Age')\n",
    "plt.ylabel('Frequency')\n",
    "plt.show()\n",
    "\n",
    "# Membership duration\n",
    "plt.figure(figsize=(10, 6))\n",
    "sns.distplot(data['membership_duration'].dropna(), bins=30, kde=True)\n",
    "plt.title('Distribution of Membership Duration')\n",
    "plt.xlabel('Membership Duration (days)')\n",
    "plt.ylabel('Frequency')\n",
    "plt.show()\n",
    "\n",
    "# Response rate by offer type\n",
    "plt.figure(figsize=(10, 6))\n",
    "response_rate = data.groupby('offer_type')['offer_completed'].mean().reset_index()\n",
    "sns.barplot(x='offer_type', y='offer_completed', data=response_rate)\n",
    "plt.title('Response Rate by Offer Type')\n",
    "plt.xlabel('Offer Type')\n",
    "plt.ylabel('Response Rate')\n",
    "plt.show()\n",
    "\n",
    "# Response rate by gender\n",
    "plt.figure(figsize=(10, 6))\n",
    "response_rate_gender = data.groupby('gender_M')['offer_completed'].mean().reset_index()\n",
    "response_rate_gender.columns = ['gender', 'response']\n",
    "response_rate_gender['gender'] = response_rate_gender['gender'].replace({1: 'M', 0: 'F or O'})\n",
    "sns.barplot(x='gender', y='response', data=response_rate_gender)\n",
    "plt.title('Response Rate by Gender')\n",
    "plt.xlabel('Gender')\n",
    "plt.ylabel('Response Rate')\n",
    "plt.show()\n",
    "\n",
    "\n",
    "# Response rate by income group\n",
    "plt.figure(figsize=(10, 6))\n",
    "data['income_group'] = pd.cut(data['income'], bins=5)\n",
    "response_rate_income = data.groupby('income_group')['offer_completed'].mean().reset_index()\n",
    "sns.barplot(x='income_group', y='offer_completed', data=response_rate_income)\n",
    "plt.title('Response Rate by Income Group')\n",
    "plt.xlabel('Income Group')\n",
    "plt.ylabel('Response Rate')\n",
    "plt.show()\n"
   ]
  },
  {
   "cell_type": "code",
   "execution_count": 23,
   "metadata": {},
   "outputs": [],
   "source": [
    "# Drop the dummy columns for 'offer_type' after creating the combined column\n",
    "data.drop(['offer_type_discount', 'offer_type_informational', 'offer_type_bogo'], axis=1, inplace=True)"
   ]
  },
  {
   "cell_type": "code",
   "execution_count": 24,
   "metadata": {},
   "outputs": [
    {
     "name": "stdout",
     "output_type": "stream",
     "text": [
      "amount                               float64\n",
      "offer_id                              object\n",
      "reward_x                             float64\n",
      "age                                  float64\n",
      "income                               float64\n",
      "difficulty                           float64\n",
      "duration                             float64\n",
      "reward_y                             float64\n",
      "membership_duration                  float64\n",
      "gender_M                               uint8\n",
      "gender_O                               uint8\n",
      "gender_Unknown                         uint8\n",
      "web                                    int64\n",
      "email                                  int64\n",
      "mobile                                 int64\n",
      "social                                 int64\n",
      "offer_received                         int64\n",
      "offer_viewed                           int64\n",
      "offer_completed                        int64\n",
      "offer_type_discount                    uint8\n",
      "income_group_(48000.0, 66000.0]        uint8\n",
      "income_group_(66000.0, 84000.0]        uint8\n",
      "income_group_(84000.0, 102000.0]       uint8\n",
      "income_group_(102000.0, 120000.0]      uint8\n",
      "dtype: object\n"
     ]
    }
   ],
   "source": [
    "# Convert 'offer_type' to numerical using one-hot encoding\n",
    "data = pd.get_dummies(data, columns=['offer_type','income_group'], drop_first=True)\n",
    "\n",
    "# Verify the data types again\n",
    "print(data.dtypes)"
   ]
  },
  {
   "cell_type": "markdown",
   "metadata": {},
   "source": [
    "# Split data set into Train -Test"
   ]
  },
  {
   "cell_type": "code",
   "execution_count": 25,
   "metadata": {},
   "outputs": [],
   "source": [
    "# Select features and target variable\n",
    "features = ['age', 'income', 'membership_duration', 'offer_received', 'offer_viewed'] + \\\n",
    "           [col for col in data.columns if 'gender_' in col] + \\\n",
    "           [col for col in data.columns if 'offer_type_' in col] + \\\n",
    "           [col for col in data.columns if col in ['email', 'mobile', 'social', 'web']]\n",
    "\n",
    "X = data[features]\n",
    "y = data['offer_completed']\n",
    "\n",
    "# Split the data into training and testing sets\n",
    "X_train, X_test, y_train, y_test = train_test_split(X, y, test_size=0.2, random_state=42)\n",
    "\n",
    "\n",
    "\n"
   ]
  },
  {
   "cell_type": "markdown",
   "metadata": {},
   "source": [
    "# Train the model"
   ]
  },
  {
   "cell_type": "code",
   "execution_count": 26,
   "metadata": {},
   "outputs": [],
   "source": [
    "# Initialize the model\n",
    "model = RandomForestClassifier(n_estimators=100, random_state=42)\n",
    "\n",
    "# Train the model\n",
    "model.fit(X_train, y_train)\n",
    "\n",
    "# Make predictions\n",
    "y_pred_train = model.predict(X_train)\n",
    "y_pred_test = model.predict(X_test)\n"
   ]
  },
  {
   "cell_type": "markdown",
   "metadata": {},
   "source": [
    "# Evaluate the Model"
   ]
  },
  {
   "cell_type": "code",
   "execution_count": 27,
   "metadata": {},
   "outputs": [
    {
     "name": "stdout",
     "output_type": "stream",
     "text": [
      "Train Accuracy: 1.0\n",
      "Test Accuracy: 1.0\n",
      "Train Precision: 1.0\n",
      "Test Precision: 1.0\n",
      "Train Recall: 1.0\n",
      "Test Recall: 1.0\n",
      "Train F1 Score: 1.0\n",
      "Test F1 Score: 1.0\n"
     ]
    }
   ],
   "source": [
    "# Evaluate the model\n",
    "train_accuracy = accuracy_score(y_train, y_pred_train)\n",
    "test_accuracy = accuracy_score(y_test, y_pred_test)\n",
    "train_precision = precision_score(y_train, y_pred_train)\n",
    "test_precision = precision_score(y_test, y_pred_test)\n",
    "train_recall = recall_score(y_train, y_pred_train)\n",
    "test_recall = recall_score(y_test, y_pred_test)\n",
    "train_f1 = f1_score(y_train, y_pred_train)\n",
    "test_f1 = f1_score(y_test, y_pred_test)\n",
    "\n",
    "print(f'Train Accuracy: {train_accuracy}')\n",
    "print(f'Test Accuracy: {test_accuracy}')\n",
    "print(f'Train Precision: {train_precision}')\n",
    "print(f'Test Precision: {test_precision}')\n",
    "print(f'Train Recall: {train_recall}')\n",
    "print(f'Test Recall: {test_recall}')\n",
    "print(f'Train F1 Score: {train_f1}')\n",
    "print(f'Test F1 Score: {test_f1}')\n"
   ]
  },
  {
   "cell_type": "code",
   "execution_count": 28,
   "metadata": {},
   "outputs": [
    {
     "data": {
      "image/png": "[encoded data removed]",
      "text/plain": [
       "<matplotlib.figure.Figure at 0x7c5c50efb780>"
      ]
     },
     "metadata": {
      "needs_background": "light"
     },
     "output_type": "display_data"
    }
   ],
   "source": [
    "# Confusion Matrix\n",
    "conf_matrix = confusion_matrix(y_test, y_pred_test)\n",
    "\n",
    "plt.figure(figsize=(8, 6))\n",
    "sns.heatmap(conf_matrix, annot=True, fmt='d', cmap='Blues', xticklabels=['No Response', 'Response'], yticklabels=['No Response', 'Response'])\n",
    "plt.xlabel('Predicted')\n",
    "plt.ylabel('Actual')\n",
    "plt.title('Confusion Matrix')\n",
    "plt.show()\n"
   ]
  },
  {
   "cell_type": "markdown",
   "metadata": {},
   "source": [
    "# Further evaluation"
   ]
  },
  {
   "cell_type": "raw",
   "metadata": {},
   "source": [
    "# Define the parameter grid\n",
    "param_grid = {\n",
    "    'n_estimators': [100, 200, 300],\n",
    "    'max_features': ['auto', 'sqrt', 'log2'],\n",
    "    'max_depth': [10, 20, 30, None],\n",
    "    'min_samples_split': [2, 5, 10],\n",
    "    'min_samples_leaf': [1, 2, 4],\n",
    "    'bootstrap': [True, False]\n",
    "}\n",
    "\n",
    "# Initialize the model\n",
    "rf = RandomForestClassifier(random_state=42)\n",
    "\n",
    "# Initialize GridSearchCV\n",
    "grid_search = GridSearchCV(estimator=rf, param_grid=param_grid, cv=5, n_jobs=-1, verbose=2)\n",
    "\n",
    "# Perform the grid search\n",
    "grid_search.fit(X_train, y_train)\n",
    "\n",
    "# Print the best parameters and best score\n",
    "print(f\"Best Parameters: {grid_search.best_params_}\")\n",
    "print(f\"Best Score: {grid_search.best_score_}\")\n",
    "\n",
    "# Train the model with the best parameters\n",
    "best_rf = grid_search.best_estimator_\n",
    "\n",
    "# Make predictions\n",
    "y_pred_train = best_rf.predict(X_train)\n",
    "y_pred_test = best_rf.predict(X_test)\n",
    "\n",
    "# Evaluate the model\n",
    "train_accuracy = accuracy_score(y_train, y_pred_train)\n",
    "test_accuracy = accuracy_score(y_test, y_pred_test)\n",
    "train_precision = precision_score(y_train, y_pred_train)\n",
    "test_precision = precision_score(y_test, y_pred_test)\n",
    "train_recall = recall_score(y_train, y_pred_train)\n",
    "test_recall = recall_score(y_test, y_pred_test)\n",
    "train_f1 = f1_score(y_train, y_pred_train)\n",
    "test_f1 = f1_score(y_test, y_pred_test)\n",
    "\n",
    "print(f'Train Accuracy: {train_accuracy}')\n",
    "print(f'Test Accuracy: {test_accuracy}')\n",
    "print(f'Train Precision: {train_precision}')\n",
    "print(f'Test Precision: {test_precision}')\n",
    "print(f'Train Recall: {train_recall}')\n",
    "print(f'Test Recall: {test_recall}')\n",
    "print(f'Train F1 Score: {train_f1}')\n",
    "print(f'Test F1 Score: {test_f1}')\n",
    "\n",
    "# Confusion Matrix\n",
    "conf_matrix = confusion_matrix(y_test, y_pred_test)\n",
    "\n",
    "plt.figure(figsize=(8, 6))\n",
    "sns.heatmap(conf_matrix, annot=True, fmt='d', cmap='Blues', xticklabels=['No Response', 'Response'], yticklabels=['No Response', 'Response'])\n",
    "plt.xlabel('Predicted')\n",
    "plt.ylabel('Actual')\n",
    "plt.title('Confusion Matrix')\n",
    "plt.show()"
   ]
  },
  {
   "cell_type": "code",
   "execution_count": null,
   "metadata": {},
   "outputs": [],
   "source": []
  },
  {
   "cell_type": "code",
   "execution_count": null,
   "metadata": {},
   "outputs": [],
   "source": []
  },
  {
   "cell_type": "code",
   "execution_count": null,
   "metadata": {},
   "outputs": [],
   "source": []
  }
 ],
 "metadata": {
  "kernelspec": {
   "display_name": "Python 3",
   "language": "python",
   "name": "python3"
  },
  "language_info": {
   "codemirror_mode": {
    "name": "ipython",
    "version": 3
   },
   "file_extension": ".py",
   "mimetype": "text/x-python",
   "name": "python",
   "nbconvert_exporter": "python",
   "pygments_lexer": "ipython3",
   "version": "3.6.3"
  }
 },
 "nbformat": 4,
 "nbformat_minor": 2
}
